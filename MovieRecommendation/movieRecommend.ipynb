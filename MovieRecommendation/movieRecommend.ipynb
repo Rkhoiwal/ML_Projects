{
 "cells": [
  {
   "cell_type": "code",
   "execution_count": 21,
   "metadata": {},
   "outputs": [
    {
     "name": "stdout",
     "output_type": "stream",
     "text": [
      "Populating the interactive namespace from numpy and matplotlib\n"
     ]
    }
   ],
   "source": [
    "import warnings\n",
    "warnings.filterwarnings(\"ignore\")\n",
    "\n",
    "import numpy as np\n",
    "import seaborn as sns\n",
    "import pandas as pd\n",
    "%pylab inline\n",
    "\n",
    "from subprocess import check_output"
   ]
  },
  {
   "cell_type": "code",
   "execution_count": 22,
   "metadata": {},
   "outputs": [
    {
     "name": "stdout",
     "output_type": "stream",
     "text": [
      "<class 'pandas.core.frame.DataFrame'>\n",
      "RangeIndex: 5043 entries, 0 to 5042\n",
      "Data columns (total 28 columns):\n",
      "color                        5024 non-null object\n",
      "director_name                4939 non-null object\n",
      "num_critic_for_reviews       4993 non-null float64\n",
      "duration                     5028 non-null float64\n",
      "director_facebook_likes      4939 non-null float64\n",
      "actor_3_facebook_likes       5020 non-null float64\n",
      "actor_2_name                 5030 non-null object\n",
      "actor_1_facebook_likes       5036 non-null float64\n",
      "gross                        4159 non-null float64\n",
      "genres                       5043 non-null object\n",
      "actor_1_name                 5036 non-null object\n",
      "movie_title                  5043 non-null object\n",
      "num_voted_users              5043 non-null int64\n",
      "cast_total_facebook_likes    5043 non-null int64\n",
      "actor_3_name                 5020 non-null object\n",
      "facenumber_in_poster         5030 non-null float64\n",
      "plot_keywords                4890 non-null object\n",
      "movie_imdb_link              5043 non-null object\n",
      "num_user_for_reviews         5022 non-null float64\n",
      "language                     5031 non-null object\n",
      "country                      5038 non-null object\n",
      "content_rating               4740 non-null object\n",
      "budget                       4551 non-null float64\n",
      "title_year                   4935 non-null float64\n",
      "actor_2_facebook_likes       5030 non-null float64\n",
      "imdb_score                   5043 non-null float64\n",
      "aspect_ratio                 4714 non-null float64\n",
      "movie_facebook_likes         5043 non-null int64\n",
      "dtypes: float64(13), int64(3), object(12)\n",
      "memory usage: 1.1+ MB\n"
     ]
    }
   ],
   "source": [
    "df = pd.read_csv('movie_metadata.csv')\n",
    "df.info()"
   ]
  },
  {
   "cell_type": "code",
   "execution_count": 23,
   "metadata": {},
   "outputs": [
    {
     "name": "stdout",
     "output_type": "stream",
     "text": [
      "Those only in first name 865\n",
      "Those only in second name 1469\n",
      "Those only in third name 2126\n"
     ]
    }
   ],
   "source": [
    "first_actors = set(df.actor_1_name.unique())\n",
    "second_actors = set(df.actor_2_name.unique())\n",
    "third_actors = set(df.actor_3_name.unique())\n",
    "print('Those only in first name', len(first_actors - second_actors - third_actors))\n",
    "print('Those only in second name', len(second_actors - first_actors - third_actors))\n",
    "print('Those only in third name', len(third_actors - first_actors - second_actors))\n",
    "\n",
    "# Color\n",
    "df.color = df.color.map({'Color': 1, 'Black and White': 0})\n",
    "# Genre\n",
    "unique_genre_label = set()\n",
    "for genres in df.genres.str.split('|').values:\n",
    "    unique_genre_label = unique_genre_label.union(set(genres))\n",
    "for label in unique_genre_label:\n",
    "    df['Genre='+label] = df.genres.str.contains(label).astype(int)\n",
    "df = df.drop('genres', axis=1)"
   ]
  },
  {
   "cell_type": "code",
   "execution_count": 24,
   "metadata": {},
   "outputs": [
    {
     "name": "stdout",
     "output_type": "stream",
     "text": [
      "Duplicates exist!\n",
      "      color       director_name  num_critic_for_reviews  duration  \\\n",
      "6       1.0           Sam Raimi                   392.0     156.0   \n",
      "17      1.0         Joss Whedon                   703.0     173.0   \n",
      "25      1.0       Peter Jackson                   446.0     201.0   \n",
      "30      1.0          Sam Mendes                   750.0     143.0   \n",
      "33      1.0          Tim Burton                   451.0     108.0   \n",
      "38      1.0           Sam Raimi                   525.0     130.0   \n",
      "40      1.0     Joseph Kosinski                   469.0     125.0   \n",
      "50      1.0        Baz Luhrmann                   490.0     143.0   \n",
      "63      1.0         David Yates                   248.0     110.0   \n",
      "79      1.0         Jon Favreau                   370.0     106.0   \n",
      "84      1.0        Roland Joffé                    10.0     109.0   \n",
      "98      1.0        Hideaki Anno                     1.0     120.0   \n",
      "100     1.0           Rob Cohen                   187.0     106.0   \n",
      "137     1.0         David Yates                   248.0     110.0   \n",
      "145     1.0          Joe Wright                   256.0     111.0   \n",
      "150     1.0           Paul Feig                   464.0     116.0   \n",
      "159     1.0        Ridley Scott                   314.0     150.0   \n",
      "174     1.0         Bill Condon                   322.0     115.0   \n",
      "187     1.0         Bill Condon                   322.0     115.0   \n",
      "188     1.0         Tim Johnson                   165.0      94.0   \n",
      "204     1.0        Hideaki Anno                     1.0     120.0   \n",
      "213     1.0     Louis Leterrier                   344.0     106.0   \n",
      "214     1.0      Paul Verhoeven                   196.0     113.0   \n",
      "231     1.0        José Padilha                   492.0     117.0   \n",
      "245     1.0  Jonathan Liebesman                   348.0     101.0   \n",
      "249     1.0          Josh Trank                   369.0     100.0   \n",
      "271     1.0        Frank Coraci                   188.0     120.0   \n",
      "280     1.0         Michael Bay                   257.0     136.0   \n",
      "286     NaN     Martin Campbell                   400.0     144.0   \n",
      "287     1.0          Tim Burton                   230.0     119.0   \n",
      "...     ...                 ...                     ...       ...   \n",
      "4466    1.0       Harold Becker                    79.0     111.0   \n",
      "4489    1.0    Scott Derrickson                   276.0     104.0   \n",
      "4493    1.0       Paul McGuigan                   202.0     110.0   \n",
      "4532    1.0      John Carpenter                   212.0      89.0   \n",
      "4557    1.0       Jason Reitman                   387.0      96.0   \n",
      "4565    1.0      Peter Cattaneo                   122.0      91.0   \n",
      "4569    1.0       Rob Letterman                   218.0     103.0   \n",
      "4573    1.0          Mel Brooks                    48.0      92.0   \n",
      "4584    1.0       Peter Jackson                   308.0     135.0   \n",
      "4631    1.0         Danny Boyle                   393.0     101.0   \n",
      "4649    1.0     Ric Roman Waugh                   238.0     112.0   \n",
      "4681    1.0      David S. Goyer                   178.0      89.0   \n",
      "4694    1.0       Peter Jackson                   446.0     201.0   \n",
      "4695    1.0  Jaume Collet-Serra                   228.0     108.0   \n",
      "4752    1.0         Tim Johnson                   165.0      94.0   \n",
      "4769    1.0         Tamra Davis                   111.0      93.0   \n",
      "4778    1.0           Sam Raimi                   525.0     130.0   \n",
      "4821    1.0      John Carpenter                   318.0     101.0   \n",
      "4842    1.0        Julie Taymor                   156.0     133.0   \n",
      "4882    1.0          Dan Curtis                     NaN      99.0   \n",
      "4894    1.0   Richard Fleischer                    69.0     127.0   \n",
      "4905    1.0   Steven Soderbergh                   450.0     106.0   \n",
      "4927    1.0         Jason Stone                    48.0     108.0   \n",
      "4936    1.0         Tobe Hooper                   277.0      88.0   \n",
      "4942    1.0       Paul Schrader                   130.0      93.0   \n",
      "4949    1.0       David Hewlett                     8.0      88.0   \n",
      "4950    1.0       David Hewlett                     8.0      88.0   \n",
      "4951    NaN    George A. Romero                   284.0      96.0   \n",
      "4971    1.0      Dennis Iliadis                   241.0     114.0   \n",
      "5012    1.0          David Ayer                   233.0     109.0   \n",
      "\n",
      "      director_facebook_likes  actor_3_facebook_likes         actor_2_name  \\\n",
      "6                         0.0                  4000.0         James Franco   \n",
      "17                        0.0                 19000.0    Robert Downey Jr.   \n",
      "25                        0.0                    84.0   Thomas Kretschmann   \n",
      "30                        0.0                   393.0        Helen McCrory   \n",
      "33                    13000.0                 11000.0         Alan Rickman   \n",
      "38                        0.0                 11000.0           Mila Kunis   \n",
      "40                      364.0                  1000.0         Olivia Wilde   \n",
      "50                     1000.0                    77.0    Elizabeth Debicki   \n",
      "63                      282.0                   103.0  Alexander Skarsgård   \n",
      "79                     4000.0                   591.0          Bill Murray   \n",
      "84                      596.0                   283.0        Alice Englert   \n",
      "98                       28.0                    12.0    Shin'ya Tsukamoto   \n",
      "100                     357.0                  4000.0           Vin Diesel   \n",
      "137                     282.0                   103.0  Alexander Skarsgård   \n",
      "145                     456.0                   394.0      Cara Delevingne   \n",
      "150                     176.0                   322.0        Kate McKinnon   \n",
      "159                       0.0                   748.0       María Valverde   \n",
      "174                     386.0                 12000.0      Kristen Stewart   \n",
      "187                     386.0                 12000.0      Kristen Stewart   \n",
      "188                      12.0                   183.0           Matt Jones   \n",
      "204                      28.0                    12.0    Shin'ya Tsukamoto   \n",
      "213                     255.0                   850.0        Jason Flemyng   \n",
      "214                     719.0                   217.0       Rachel Ticotin   \n",
      "231                     294.0                  1000.0        Abbie Cornish   \n",
      "245                     473.0                   429.0       Danny Woodburn   \n",
      "249                     128.0                    78.0        Reg E. Cathey   \n",
      "271                     153.0                   447.0         Steve Coogan   \n",
      "280                       0.0                  3000.0        Steve Buscemi   \n",
      "286                     258.0                   834.0       Tobias Menzies   \n",
      "287                   13000.0                   567.0       Estella Warren   \n",
      "...                       ...                     ...                  ...   \n",
      "4466                     17.0                   652.0          Miko Hughes   \n",
      "4489                    301.0                    71.0             Jon Hamm   \n",
      "4493                    118.0                  1000.0       Morgan Freeman   \n",
      "4532                      0.0                   606.0         Hal Holbrook   \n",
      "4557                    655.0                   973.0      Jennifer Garner   \n",
      "4565                     11.0                   121.0            Mark Addy   \n",
      "4569                     11.0                   543.0       Dylan Minnette   \n",
      "4573                      0.0                   842.0           Sid Caesar   \n",
      "4584                      0.0                   310.0          AJ Michalka   \n",
      "4631                      0.0                   888.0      Spencer Wilding   \n",
      "4649                     29.0                   874.0     Harold Perrineau   \n",
      "4681                    687.0                   389.0      Atticus Shaffer   \n",
      "4694                      0.0                    84.0   Thomas Kretschmann   \n",
      "4695                    174.0                   324.0         Paris Hilton   \n",
      "4752                     12.0                   183.0           Matt Jones   \n",
      "4769                     33.0                   135.0    Katherine Boecher   \n",
      "4778                      0.0                 11000.0           Mila Kunis   \n",
      "4821                      0.0                   598.0     Donald Pleasence   \n",
      "4842                    278.0                   107.0          T.V. Carpio   \n",
      "4882                     45.0                   224.0       Campbell Scott   \n",
      "4894                    130.0                    51.0      Robert J. Wilke   \n",
      "4905                      0.0                   273.0      David Costabile   \n",
      "4927                     14.0                   826.0        Ellen Burstyn   \n",
      "4936                    365.0                   177.0           Edwin Neal   \n",
      "4942                    261.0                   697.0             Ruby Dee   \n",
      "4949                    686.0                   405.0        David Hewlett   \n",
      "4950                    686.0                   405.0        David Hewlett   \n",
      "4951                      0.0                    56.0          Duane Jones   \n",
      "4971                     29.0                   616.0        Monica Potter   \n",
      "5012                    453.0                   120.0       Martin Donovan   \n",
      "\n",
      "      actor_1_facebook_likes        gross          actor_1_name      ...       \\\n",
      "6                    24000.0  336530303.0          J.K. Simmons      ...        \n",
      "17                   26000.0  623279547.0       Chris Hemsworth      ...        \n",
      "25                    6000.0  218051260.0           Naomi Watts      ...        \n",
      "30                     883.0  304360277.0         Albert Finney      ...        \n",
      "33                   40000.0  334185206.0           Johnny Depp      ...        \n",
      "38                   44000.0  234903076.0            Tim Holmes      ...        \n",
      "40                   12000.0  172051787.0          Jeff Bridges      ...        \n",
      "50                   29000.0  144812796.0     Leonardo DiCaprio      ...        \n",
      "63                   11000.0  124051759.0       Christoph Waltz      ...        \n",
      "79                   19000.0  362645141.0    Scarlett Johansson      ...        \n",
      "84                     622.0          NaN        Tamsin Egerton      ...        \n",
      "98                     544.0          NaN         Mark Chinnery      ...        \n",
      "100                  23000.0  144512310.0           Paul Walker      ...        \n",
      "137                  11000.0  124051759.0       Christoph Waltz      ...        \n",
      "145                  20000.0   34964818.0          Hugh Jackman      ...        \n",
      "150                    783.0  118099659.0         Ed Begley Jr.      ...        \n",
      "159                  23000.0   65007045.0        Christian Bale      ...        \n",
      "174                  21000.0  292298923.0      Robert Pattinson      ...        \n",
      "187                  21000.0  292298923.0      Robert Pattinson      ...        \n",
      "188                  17000.0  177343675.0           Jim Parsons      ...        \n",
      "204                    544.0          NaN         Mark Chinnery      ...        \n",
      "213                  14000.0  163192114.0           Liam Neeson      ...        \n",
      "214                    605.0  119412921.0             Ronny Cox      ...        \n",
      "231                  10000.0   58607007.0           Gary Oldman      ...        \n",
      "245                    833.0  190871240.0           Noel Fisher      ...        \n",
      "249                    596.0   56114221.0      Tim Blake Nelson      ...        \n",
      "271                   1000.0   24004159.0         Jim Broadbent      ...        \n",
      "280                  19000.0   35799026.0    Scarlett Johansson      ...        \n",
      "286                   6000.0  167007184.0             Eva Green      ...        \n",
      "287                   1000.0  180011740.0  Cary-Hiroyuki Tagawa      ...        \n",
      "...                      ...          ...                   ...      ...        \n",
      "4466                 13000.0   32940507.0          Bruce Willis      ...        \n",
      "4489                 18000.0   79363785.0          Keanu Reeves      ...        \n",
      "4493                 13000.0   22494487.0          Bruce Willis      ...        \n",
      "4532                  2000.0   21378000.0      Jamie Lee Curtis      ...        \n",
      "4557                 24000.0  143492840.0          J.K. Simmons      ...        \n",
      "4565                  1000.0   45857453.0         Tom Wilkinson      ...        \n",
      "4569                  2000.0   80021740.0            Odeya Rush      ...        \n",
      "4573                  1000.0          NaN         Madeline Kahn      ...        \n",
      "4584                   873.0   43982842.0     Michael Imperioli      ...        \n",
      "4631                  3000.0    2319187.0        Rosario Dawson      ...        \n",
      "4649                 12000.0   42919096.0        Dwayne Johnson      ...        \n",
      "4681                 10000.0   42638165.0           Gary Oldman      ...        \n",
      "4694                  6000.0  218051260.0           Naomi Watts      ...        \n",
      "4695                   730.0   32048809.0       Robert Ri'chard      ...        \n",
      "4752                 17000.0  177343675.0           Jim Parsons      ...        \n",
      "4769                  1000.0   37188667.0        Britney Spears      ...        \n",
      "4778                 44000.0  234903076.0            Tim Holmes      ...        \n",
      "4821                  2000.0   47000000.0      Jamie Lee Curtis      ...        \n",
      "4842                  5000.0   24343673.0          Jim Sturgess      ...        \n",
      "4882                  1000.0          NaN  Jennifer Jason Leigh      ...        \n",
      "4894                   618.0          NaN           James Mason      ...        \n",
      "4905                 17000.0   32154410.0        Channing Tatum      ...        \n",
      "4927                  2000.0          NaN          Topher Grace      ...        \n",
      "4936                   383.0   30859000.0         Gunnar Hansen      ...        \n",
      "4942                   783.0          NaN         Ed Begley Jr.      ...        \n",
      "4949                   847.0          NaN     Christopher Judge      ...        \n",
      "4950                   847.0          NaN     Christopher Judge      ...        \n",
      "4951                   125.0          NaN          Judith O'Dea      ...        \n",
      "4971                   956.0   32721635.0          Tony Goldwyn      ...        \n",
      "5012                  1000.0   10499968.0         Mireille Enos      ...        \n",
      "\n",
      "     Genre=Biography  Genre=Fantasy  Genre=Reality-TV Genre=Music  \\\n",
      "6                  0              0                 0           0   \n",
      "17                 0              0                 0           0   \n",
      "25                 0              0                 0           0   \n",
      "30                 0              0                 0           0   \n",
      "33                 0              1                 0           0   \n",
      "38                 0              1                 0           0   \n",
      "40                 0              0                 0           0   \n",
      "50                 0              0                 0           0   \n",
      "63                 0              0                 0           0   \n",
      "79                 0              1                 0           0   \n",
      "84                 0              0                 0           0   \n",
      "98                 0              0                 0           0   \n",
      "100                0              0                 0           0   \n",
      "137                0              0                 0           0   \n",
      "145                0              1                 0           0   \n",
      "150                0              1                 0           0   \n",
      "159                0              0                 0           0   \n",
      "174                0              1                 0           0   \n",
      "187                0              1                 0           0   \n",
      "188                0              1                 0           0   \n",
      "204                0              0                 0           0   \n",
      "213                0              1                 0           0   \n",
      "214                0              0                 0           0   \n",
      "231                0              0                 0           0   \n",
      "245                0              0                 0           0   \n",
      "249                0              0                 0           0   \n",
      "271                0              0                 0           0   \n",
      "280                0              0                 0           0   \n",
      "286                0              0                 0           0   \n",
      "287                0              0                 0           0   \n",
      "...              ...            ...               ...         ...   \n",
      "4466               0              0                 0           0   \n",
      "4489               0              0                 0           0   \n",
      "4493               0              0                 0           0   \n",
      "4532               0              1                 0           0   \n",
      "4557               0              0                 0           0   \n",
      "4565               0              0                 0           1   \n",
      "4569               0              1                 0           0   \n",
      "4573               0              0                 0           0   \n",
      "4584               0              1                 0           0   \n",
      "4631               0              0                 0           0   \n",
      "4649               0              0                 0           0   \n",
      "4681               0              1                 0           0   \n",
      "4694               0              0                 0           0   \n",
      "4695               0              0                 0           0   \n",
      "4752               0              1                 0           0   \n",
      "4769               0              0                 0           0   \n",
      "4778               0              1                 0           0   \n",
      "4821               0              0                 0           0   \n",
      "4842               0              1                 0           1   \n",
      "4882               0              1                 0           0   \n",
      "4894               0              1                 0           0   \n",
      "4905               0              0                 0           0   \n",
      "4927               0              0                 0           0   \n",
      "4936               0              0                 0           0   \n",
      "4942               0              1                 0           0   \n",
      "4949               0              0                 0           0   \n",
      "4950               0              0                 0           0   \n",
      "4951               0              0                 0           0   \n",
      "4971               0              0                 0           0   \n",
      "5012               0              0                 0           0   \n",
      "\n",
      "      Genre=Thriller Genre=Sci-Fi Genre=News  Genre=War Genre=Mystery  \\\n",
      "6                  0            0          0          0             0   \n",
      "17                 0            1          0          0             0   \n",
      "25                 0            0          0          0             0   \n",
      "30                 1            0          0          0             0   \n",
      "33                 0            0          0          0             0   \n",
      "38                 0            0          0          0             0   \n",
      "40                 0            1          0          0             0   \n",
      "50                 0            0          0          0             0   \n",
      "63                 0            0          0          0             0   \n",
      "79                 0            0          0          0             0   \n",
      "84                 0            1          0          0             0   \n",
      "98                 0            1          0          0             0   \n",
      "100                1            0          0          0             0   \n",
      "137                0            0          0          0             0   \n",
      "145                0            0          0          0             0   \n",
      "150                0            1          0          0             0   \n",
      "159                0            0          0          0             0   \n",
      "174                0            0          0          0             0   \n",
      "187                0            0          0          0             0   \n",
      "188                0            1          0          0             0   \n",
      "204                0            1          0          0             0   \n",
      "213                0            0          0          0             0   \n",
      "214                0            1          0          0             0   \n",
      "231                1            1          0          0             0   \n",
      "245                0            1          0          0             0   \n",
      "249                0            1          0          0             0   \n",
      "271                0            0          0          0             0   \n",
      "280                1            1          0          0             0   \n",
      "286                1            0          0          0             0   \n",
      "287                1            1          0          0             0   \n",
      "...              ...          ...        ...        ...           ...   \n",
      "4466               1            0          0          0             0   \n",
      "4489               1            1          0          0             0   \n",
      "4493               1            0          0          0             1   \n",
      "4532               0            0          0          0             0   \n",
      "4557               0            0          0          0             0   \n",
      "4565               0            0          0          0             0   \n",
      "4569               0            0          0          0             0   \n",
      "4573               0            0          0          0             0   \n",
      "4584               1            0          0          0             0   \n",
      "4631               1            0          0          0             1   \n",
      "4649               1            0          0          0             0   \n",
      "4681               1            0          0          0             1   \n",
      "4694               0            0          0          0             0   \n",
      "4695               0            0          0          0             0   \n",
      "4752               0            1          0          0             0   \n",
      "4769               0            0          0          0             0   \n",
      "4778               0            0          0          0             0   \n",
      "4821               1            0          0          0             0   \n",
      "4842               0            0          0          0             0   \n",
      "4882               0            0          0          0             0   \n",
      "4894               0            1          0          0             0   \n",
      "4905               1            0          0          0             0   \n",
      "4927               1            0          0          0             0   \n",
      "4936               1            0          0          0             0   \n",
      "4942               1            0          0          0             0   \n",
      "4949               0            0          0          0             0   \n",
      "4950               0            0          0          0             0   \n",
      "4951               0            0          0          0             1   \n",
      "4971               1            0          0          0             0   \n",
      "5012               1            0          0          0             0   \n",
      "\n",
      "     Genre=Musical  \n",
      "6                0  \n",
      "17               0  \n",
      "25               0  \n",
      "30               0  \n",
      "33               0  \n",
      "38               0  \n",
      "40               0  \n",
      "50               0  \n",
      "63               0  \n",
      "79               0  \n",
      "84               0  \n",
      "98               0  \n",
      "100              0  \n",
      "137              0  \n",
      "145              0  \n",
      "150              0  \n",
      "159              0  \n",
      "174              0  \n",
      "187              0  \n",
      "188              0  \n",
      "204              0  \n",
      "213              0  \n",
      "214              0  \n",
      "231              0  \n",
      "245              0  \n",
      "249              0  \n",
      "271              0  \n",
      "280              0  \n",
      "286              0  \n",
      "287              0  \n",
      "...            ...  \n",
      "4466             0  \n",
      "4489             0  \n",
      "4493             0  \n",
      "4532             0  \n",
      "4557             0  \n",
      "4565             0  \n",
      "4569             0  \n",
      "4573             0  \n",
      "4584             0  \n",
      "4631             0  \n",
      "4649             0  \n",
      "4681             0  \n",
      "4694             0  \n",
      "4695             0  \n",
      "4752             0  \n",
      "4769             0  \n",
      "4778             0  \n",
      "4821             0  \n",
      "4842             1  \n",
      "4882             0  \n",
      "4894             0  \n",
      "4905             0  \n",
      "4927             0  \n",
      "4936             0  \n",
      "4942             0  \n",
      "4949             0  \n",
      "4950             0  \n",
      "4951             0  \n",
      "4971             0  \n",
      "5012             0  \n",
      "\n",
      "[245 rows x 53 columns]\n"
     ]
    }
   ],
   "source": [
    "if len(df.drop_duplicates(subset=['movie_title', 'title_year', 'movie_imdb_link'])) < len(df):\n",
    "    print(\"Duplicates exist!\")\n",
    "    # Print the duplicates\n",
    "    duplicates = df[df.movie_title.map(df.movie_title.value_counts() > 1)]\n",
    "    duplicates.sort_values('movie_title')[['movie_title', 'title_year']]\n",
    "    print(duplicates)\n",
    "    df = df.drop_duplicates(subset=['movie_title', 'title_year', 'movie_imdb_link'])"
   ]
  },
  {
   "cell_type": "code",
   "execution_count": 25,
   "metadata": {},
   "outputs": [
    {
     "data": {
      "text/plain": [
       "0       4584.0\n",
       "1       4584.0\n",
       "2       4584.0\n",
       "3       4584.0\n",
       "4          NaN\n",
       "5       4584.0\n",
       "6       4584.0\n",
       "7       4584.0\n",
       "8       4584.0\n",
       "9       4584.0\n",
       "10      4584.0\n",
       "11      4584.0\n",
       "12      4584.0\n",
       "13      4584.0\n",
       "14      4584.0\n",
       "15      4584.0\n",
       "16      4584.0\n",
       "17      4584.0\n",
       "18      4584.0\n",
       "19      4584.0\n",
       "20      4584.0\n",
       "21      4584.0\n",
       "22      4584.0\n",
       "23      4584.0\n",
       "24      4584.0\n",
       "25      4584.0\n",
       "26      4584.0\n",
       "27      4584.0\n",
       "28      4584.0\n",
       "29      4584.0\n",
       "         ...  \n",
       "5013    4584.0\n",
       "5014    4584.0\n",
       "5015    4584.0\n",
       "5016    4584.0\n",
       "5017    4584.0\n",
       "5018    4584.0\n",
       "5019    4584.0\n",
       "5020    4584.0\n",
       "5021    4584.0\n",
       "5022       1.0\n",
       "5023    4584.0\n",
       "5024    4584.0\n",
       "5025    4584.0\n",
       "5026      73.0\n",
       "5027       4.0\n",
       "5028    4584.0\n",
       "5029      17.0\n",
       "5030    4584.0\n",
       "5031    4584.0\n",
       "5032    4584.0\n",
       "5033    4584.0\n",
       "5034    4584.0\n",
       "5035      40.0\n",
       "5036    4584.0\n",
       "5037    4584.0\n",
       "5038    4584.0\n",
       "5039    4584.0\n",
       "5040    4584.0\n",
       "5041    4584.0\n",
       "5042    4584.0\n",
       "Name: language, Length: 4919, dtype: float64"
      ]
     },
     "execution_count": 25,
     "metadata": {},
     "output_type": "execute_result"
    }
   ],
   "source": [
    "counts = df.language.value_counts()\n",
    "df.language = df.language.map(counts)\n",
    "df.language"
   ]
  },
  {
   "cell_type": "code",
   "execution_count": 26,
   "metadata": {},
   "outputs": [
    {
     "name": "stdout",
     "output_type": "stream",
     "text": [
      "Index(['director_name', 'actor_2_name', 'actor_1_name', 'movie_title',\n",
      "       'actor_3_name', 'movie_imdb_link'],\n",
      "      dtype='object')\n"
     ]
    },
    {
     "data": {
      "text/plain": [
       "Index(['movie_title'], dtype='object')"
      ]
     },
     "execution_count": 26,
     "metadata": {},
     "output_type": "execute_result"
    }
   ],
   "source": [
    "count = df.country.value_counts()\n",
    "df.country = df.country.map(count)\n",
    "#df.country\n",
    "counts = df.content_rating.value_counts()\n",
    "df.content_rating = df.content_rating.map(counts)\n",
    "#df.content_rating\n",
    "#df.plot_keywords.head()\n",
    "unique_words = set()\n",
    "for wordlist in df.plot_keywords.str.split('|').values:\n",
    "    if wordlist is not np.nan:\n",
    "        unique_words = unique_words.union(set(wordlist))\n",
    "plot_wordbag = list(unique_words)\n",
    "for word in plot_wordbag:\n",
    "    df['plot_has_' + word.replace(' ', '-')] = df.plot_keywords.str.contains(word).astype(float)\n",
    "df = df.drop('plot_keywords', axis=1)\n",
    "# Is anything left to be done other than imputing?\n",
    "print(df.select_dtypes(include=['O']).columns)\n",
    "# We replace director name with counts of movies they've done\n",
    "df.director_name = df.director_name.map(df.director_name.value_counts())\n",
    "# We replace actor names with the number of movies they appear in.\n",
    "counts = pd.concat([df.actor_1_name, df.actor_2_name, df.actor_3_name]).value_counts()\n",
    "#counts.head()\n",
    "df.actor_1_name = df.actor_1_name.map(counts)\n",
    "df.actor_2_name = df.actor_2_name.map(counts)\n",
    "df.actor_3_name = df.actor_3_name.map(counts)\n",
    "# I have no clue what to do with the title. I'll keep it for now in order to search by name\n",
    "df = df.drop(['movie_imdb_link'], axis=1)\n",
    "# Let's check if anything is left as object\n",
    "df.select_dtypes(include=['O']).columns"
   ]
  },
  {
   "cell_type": "code",
   "execution_count": 27,
   "metadata": {},
   "outputs": [
    {
     "data": {
      "text/plain": [
       "(4919, 8136)"
      ]
     },
     "execution_count": 27,
     "metadata": {},
     "output_type": "execute_result"
    }
   ],
   "source": [
    "df.shape"
   ]
  },
  {
   "cell_type": "code",
   "execution_count": 28,
   "metadata": {},
   "outputs": [
    {
     "data": {
      "text/plain": [
       "<matplotlib.text.Text at 0x1da80a67550>"
      ]
     },
     "execution_count": 28,
     "metadata": {},
     "output_type": "execute_result"
    },
    {
     "data": {
      "image/png": "[encoded data removed]",
      "text/plain": [
       "<matplotlib.figure.Figure at 0x1dafcba6240>"
      ]
     },
     "metadata": {},
     "output_type": "display_data"
    }
   ],
   "source": [
    "# hold your horses, we still need to fill those missing values.\n",
    "new_style = {'grid': False}\n",
    "matplotlib.rc('axes', **new_style)\n",
    "plt.matshow(~df.isnull())\n",
    "plt.title('Missing values in the data')"
   ]
  },
  {
   "cell_type": "code",
   "execution_count": 29,
   "metadata": {},
   "outputs": [
    {
     "name": "stdout",
     "output_type": "stream",
     "text": [
      "(4767, 8136) (4919, 8136)\n"
     ]
    },
    {
     "data": {
      "text/plain": [
       "<matplotlib.text.Text at 0x1da807b2400>"
      ]
     },
     "execution_count": 29,
     "metadata": {},
     "output_type": "execute_result"
    },
    {
     "data": {
      "image/png": "[encoded data removed]",
      "text/plain": [
       "<matplotlib.figure.Figure at 0x1da80699198>"
      ]
     },
     "metadata": {},
     "output_type": "display_data"
    }
   ],
   "source": [
    "nullcount = df.isnull().sum(axis=1)\n",
    "ndf = df.dropna(thresh=100)\n",
    "print(ndf.shape, df.shape)\n",
    "# Let's see those nulls again\n",
    "plt.matshow(~ndf.isnull())\n",
    "plt.title('Missing values in the data')"
   ]
  },
  {
   "cell_type": "code",
   "execution_count": 30,
   "metadata": {
    "collapsed": true
   },
   "outputs": [],
   "source": [
    "# We'll treat fillna as a regression / classification problem here.\n",
    "from sklearn.neighbors import KNeighborsClassifier, KNeighborsRegressor\n",
    "from sklearn.preprocessing import LabelEncoder, MinMaxScaler\n",
    "\n",
    "def reg_class_fill(df, column, classifier):\n",
    "    \"\"\"Treat missing values as a classification / regresion problem\"\"\"\n",
    "    ndf = df.dropna(subset=[col for col in df.columns if col != column])\n",
    "    nullmask = ndf[column].isnull()\n",
    "    train, test  = ndf[~nullmask], ndf[nullmask]\n",
    "    train_x, train_y = train.drop(column, axis=1), train[column]\n",
    "    classifier.fit(train_x, train_y)\n",
    "    if len(test) > 0:\n",
    "        test_x, test_y = test.drop(column, axis=1), test[column]\n",
    "        values = classifier.predict(test_x)\n",
    "        test_y = values\n",
    "        new_x, new_y = pd.concat([train_x, test_x]), pd.concat([train_y, test_y])\n",
    "        newdf = new_x[column] = new_y\n",
    "        return newdf\n",
    "    else:\n",
    "        return ndf"
   ]
  },
  {
   "cell_type": "code",
   "execution_count": 31,
   "metadata": {
    "collapsed": true
   },
   "outputs": [],
   "source": [
    "r, c = KNeighborsRegressor, KNeighborsClassifier  # Regress or classify\n",
    "title_encoder = LabelEncoder()\n",
    "title_encoder.fit(ndf.movie_title)\n",
    "ndf.movie_title = title_encoder.transform(ndf.movie_title)"
   ]
  },
  {
   "cell_type": "code",
   "execution_count": 32,
   "metadata": {},
   "outputs": [
    {
     "name": "stdout",
     "output_type": "stream",
     "text": [
      "color                        214\n",
      "director_name                 93\n",
      "num_critic_for_reviews        26\n",
      "duration                       8\n",
      "director_facebook_likes       93\n",
      "actor_3_facebook_likes        17\n",
      "actor_2_name                  10\n",
      "actor_1_facebook_likes         7\n",
      "gross                        751\n",
      "actor_1_name                   7\n",
      "movie_title                    0\n",
      "num_voted_users                0\n",
      "cast_total_facebook_likes      0\n",
      "actor_3_name                  17\n",
      "facenumber_in_poster          11\n",
      "num_user_for_reviews           7\n",
      "language                       8\n",
      "country                        3\n",
      "content_rating               223\n",
      "budget                       445\n",
      "title_year                    93\n",
      "actor_2_facebook_likes        10\n",
      "imdb_score                     0\n",
      "aspect_ratio                 244\n",
      "movie_facebook_likes           0\n",
      "dtype: int64\n"
     ]
    }
   ],
   "source": [
    "print(ndf[ndf.columns[:25]].isnull().sum())"
   ]
  },
  {
   "cell_type": "code",
   "execution_count": 33,
   "metadata": {},
   "outputs": [
    {
     "name": "stdout",
     "output_type": "stream",
     "text": [
      "director_name Done\n",
      "title_year Done\n",
      "actor_1_name Done\n",
      "actor_2_name Done\n",
      "actor_3_name Done\n",
      "gross Done\n",
      "budget Done\n",
      "aspect_ratio Done\n",
      "content_rating Done\n",
      "num_critic_for_reviews Done\n"
     ]
    }
   ],
   "source": [
    "# Since our imputation will impact other imputations, we specify an order\n",
    "# Typically we should do this independently and then combine the results, but meh for now\n",
    "impute_order = [('director_name', c), ('title_year', c),\n",
    "                ('actor_1_name', c), ('actor_2_name', c), ('actor_3_name', c),\n",
    "                ('gross', r), ('budget', r), ('aspect_ratio', r),\n",
    "                ('content_rating', r), ('num_critic_for_reviews', r)]\n",
    "for col, classifier in impute_order:\n",
    "    ndf = reg_class_fill(ndf, col, classifier())\n",
    "    print(col, 'Done')"
   ]
  },
  {
   "cell_type": "code",
   "execution_count": 34,
   "metadata": {},
   "outputs": [
    {
     "data": {
      "text/plain": [
       "color                        0\n",
       "director_name                0\n",
       "num_critic_for_reviews       0\n",
       "duration                     0\n",
       "director_facebook_likes      0\n",
       "actor_3_facebook_likes       0\n",
       "actor_2_name                 0\n",
       "actor_1_facebook_likes       0\n",
       "gross                        0\n",
       "actor_1_name                 0\n",
       "movie_title                  0\n",
       "num_voted_users              0\n",
       "cast_total_facebook_likes    0\n",
       "actor_3_name                 0\n",
       "facenumber_in_poster         0\n",
       "num_user_for_reviews         0\n",
       "language                     0\n",
       "country                      0\n",
       "content_rating               0\n",
       "budget                       0\n",
       "title_year                   0\n",
       "actor_2_facebook_likes       0\n",
       "imdb_score                   0\n",
       "aspect_ratio                 0\n",
       "movie_facebook_likes         0\n",
       "dtype: int64"
      ]
     },
     "execution_count": 34,
     "metadata": {},
     "output_type": "execute_result"
    }
   ],
   "source": [
    "# Again we check for what else needs to be imputed.\n",
    "ndf[ndf.columns[:25]].isnull().sum()"
   ]
  },
  {
   "cell_type": "code",
   "execution_count": 35,
   "metadata": {},
   "outputs": [
    {
     "data": {
      "text/plain": [
       "0"
      ]
     },
     "execution_count": 35,
     "metadata": {},
     "output_type": "execute_result"
    }
   ],
   "source": [
    "ndf.isnull().sum().sum()"
   ]
  },
  {
   "cell_type": "code",
   "execution_count": 36,
   "metadata": {
    "collapsed": true
   },
   "outputs": [],
   "source": [
    "titles = title_encoder.inverse_transform(ndf.movie_title)"
   ]
  },
  {
   "cell_type": "code",
   "execution_count": 37,
   "metadata": {},
   "outputs": [
    {
     "data": {
      "text/plain": [
       "array(['Avatar\\xa0', \"Pirates of the Caribbean: At World's End\\xa0\",\n",
       "       'Spectre\\xa0', ..., 'Primer\\xa0', 'El Mariachi\\xa0',\n",
       "       'My Date with Drew\\xa0'], dtype=object)"
      ]
     },
     "execution_count": 37,
     "metadata": {},
     "output_type": "execute_result"
    }
   ],
   "source": [
    "titles"
   ]
  },
  {
   "cell_type": "code",
   "execution_count": 38,
   "metadata": {},
   "outputs": [
    {
     "name": "stdout",
     "output_type": "stream",
     "text": [
      "fight club :  ['Fight Club\\xa0'] added Fight Club  to movies\n",
      "gump :  []\n",
      "usual suspects :  ['The Usual Suspects\\xa0'] added The Usual Suspects  to movies\n",
      "silence of the lambs :  ['The Silence of the Lambs\\xa0'] added The Silence of the Lambs  to movies\n",
      "----------\n",
      "['Fight Club\\xa0', 'The Usual Suspects\\xa0', 'The Silence of the Lambs\\xa0']\n"
     ]
    }
   ],
   "source": [
    "# Give us 5 movies that you liked\n",
    "def get_movies(names):\n",
    "    movies = []\n",
    "    for name in names:\n",
    "        found = [i for i in titles if name.lower() in i.lower()]\n",
    "        if len(found) > 0:\n",
    "            movies.append(found[0])\n",
    "            print(name, ': ', found, 'added', movies[-1], 'to movies')\n",
    "        else:\n",
    "            print(name, ': ', found)\n",
    "    print('-'*10)\n",
    "    print(movies)\n",
    "    moviecodes = title_encoder.transform(movies)\n",
    "    return moviecodes, movies\n",
    "names = ['fight club', 'gump', # This one is Forrest Gump\n",
    "                 'usual suspects', 'silence of the lambs']\n",
    "moviecodes, movies = get_movies(names)"
   ]
  },
  {
   "cell_type": "code",
   "execution_count": 39,
   "metadata": {
    "collapsed": true
   },
   "outputs": [],
   "source": [
    "data = ndf.drop('movie_title', axis=1)\n",
    "data = MinMaxScaler().fit_transform(data)"
   ]
  },
  {
   "cell_type": "code",
   "execution_count": 40,
   "metadata": {},
   "outputs": [
    {
     "data": {
      "text/plain": [
       "['Fight Club\\xa0', 'The Usual Suspects\\xa0', 'The Silence of the Lambs\\xa0']"
      ]
     },
     "execution_count": 40,
     "metadata": {},
     "output_type": "execute_result"
    }
   ],
   "source": [
    "movies"
   ]
  },
  {
   "cell_type": "code",
   "execution_count": 41,
   "metadata": {},
   "outputs": [
    {
     "data": {
      "text/plain": [
       "array(['Avatar\\xa0', \"Pirates of the Caribbean: At World's End\\xa0\",\n",
       "       'Spectre\\xa0', ..., 'Primer\\xa0', 'El Mariachi\\xa0',\n",
       "       'My Date with Drew\\xa0'], dtype=object)"
      ]
     },
     "execution_count": 41,
     "metadata": {},
     "output_type": "execute_result"
    }
   ],
   "source": [
    "titles"
   ]
  },
  {
   "cell_type": "code",
   "execution_count": 43,
   "metadata": {},
   "outputs": [],
   "source": [
    "# We assume KNN's assumptions as valid and proceede to compute a distance_matrix\n",
    "from sklearn.neighbors import KDTree\n",
    "from collections import Counter"
   ]
  },
  {
   "cell_type": "code",
   "execution_count": 44,
   "metadata": {
    "collapsed": true
   },
   "outputs": [],
   "source": [
    "tree = KDTree(data, leaf_size=2)"
   ]
  },
  {
   "cell_type": "code",
   "execution_count": 45,
   "metadata": {
    "collapsed": true
   },
   "outputs": [],
   "source": [
    "def recommend(movies, tree, titles, data):\n",
    "    \"\"\"\n",
    "    It is assumed that the movies are in order of decreasing like-able-ness\n",
    "    Recommend movies on the basis of the KDTree generated.\n",
    "    Return them in order of increasing distance form knowns.\n",
    "    \"\"\"\n",
    "    titles = list(titles)\n",
    "    length, recommendations = len(movies) + 1,[]\n",
    "    \n",
    "    for i, movie in enumerate(movies):\n",
    "        weight = length - i\n",
    "        dist, index = tree.query([data[titles.index(movie)]], k=3)\n",
    "        for d, m in zip(dist[0], index[0]):\n",
    "            recommendations.append((d*weight, titles[m]))\n",
    "    recommendations.sort()\n",
    "    # Stuff is reorganized by frequency.\n",
    "    rec = [i[1].strip() for i in recommendations if i[1] not in movies]\n",
    "    rec = [i[1] for i in sorted([(v, k) for k, v in Counter(rec).items()],\n",
    "                                reverse=True)]\n",
    "    return rec"
   ]
  },
  {
   "cell_type": "code",
   "execution_count": 46,
   "metadata": {},
   "outputs": [
    {
     "name": "stdout",
     "output_type": "stream",
     "text": [
      "Rank | Movie\n",
      "-----|------\n",
      "1.   | Untraceable\n",
      "2.   | The Young Messiah\n",
      "3.   | Suspect Zero\n",
      "4.   | Blood Ties\n",
      "5.   | Black or White\n",
      "6.   | 15 Minutes\n"
     ]
    }
   ],
   "source": [
    "rec = recommend(movies, tree, titles, data)\n",
    "\n",
    "print('Rank | Movie')\n",
    "print('-----|------')\n",
    "fmt = '{}.   | {}'\n",
    "for index, movie in enumerate(rec[:9]):\n",
    "    print(fmt.format(index + 1, movie))"
   ]
  },
  {
   "cell_type": "code",
   "execution_count": 48,
   "metadata": {},
   "outputs": [
    {
     "name": "stdout",
     "output_type": "stream",
     "text": [
      "spectre :  ['Spectre\\xa0'] added Spectre  to movies\n",
      "mission :  ['Mission: Impossible - Rogue Nation\\xa0', 'Mission: Impossible III\\xa0', 'Mission: Impossible - Ghost Protocol\\xa0', 'Mission: Impossible II\\xa0', 'Mission to Mars\\xa0', 'Mission: Impossible\\xa0', 'Admission\\xa0', 'Police Academy: Mission to Moscow\\xa0'] added Mission: Impossible - Rogue Nation  to movies\n",
      "----------\n",
      "['Spectre\\xa0', 'Mission: Impossible - Rogue Nation\\xa0']\n",
      "--------------------------------------------------\n",
      "Recommending on the basis of the above movies\n",
      "--------------------------------------------------\n",
      "\n",
      "+-----|------\n",
      "|Rank | Movie\n",
      "+-----|------\n",
      "|1.   | The World Is Not Enough\n",
      "|2.   | Mission: Impossible\n",
      "|3.   | From Paris with Love\n",
      "|4.   | For Your Eyes Only\n",
      "+-----|------\n"
     ]
    }
   ],
   "source": [
    "names = ['spectre', 'mission'] # dedicated to A.S.\n",
    "moviecodes, movies = get_movies(names)\n",
    "rec = recommend(movies, tree, titles, data)\n",
    "print('-'*50)\n",
    "print('Recommending on the basis of the above movies')\n",
    "print('-'*50)\n",
    "print()\n",
    "print('+-----|------')\n",
    "print('|Rank | Movie')\n",
    "print('+-----|------')\n",
    "fmt = '|{}.   | {}'\n",
    "for index, movie in enumerate(rec[:9]):\n",
    "    print(fmt.format(index + 1, movie))\n",
    "print('+-----|------')"
   ]
  },
  {
   "cell_type": "code",
   "execution_count": null,
   "metadata": {
    "collapsed": true
   },
   "outputs": [],
   "source": []
  }
 ],
 "metadata": {
  "kernelspec": {
   "display_name": "Python 3",
   "language": "python",
   "name": "python3"
  },
  "language_info": {
   "codemirror_mode": {
    "name": "ipython",
    "version": 3
   },
   "file_extension": ".py",
   "mimetype": "text/x-python",
   "name": "python",
   "nbconvert_exporter": "python",
   "pygments_lexer": "ipython3",
   "version": "3.5.2"
  }
 },
 "nbformat": 4,
 "nbformat_minor": 2
}
